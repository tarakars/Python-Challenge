{
 "cells": [
  {
   "cell_type": "code",
   "execution_count": 1,
   "metadata": {},
   "outputs": [],
   "source": [
    "#Dependencies\n",
    "import pandas as pd\n",
    "\n",
    "# Import SQL Alchemy\n",
    "from sqlalchemy import create_engine\n",
    "\n",
    "# Import and establish Base for which classes will be constructed \n",
    "from sqlalchemy.ext.declarative import declarative_base\n",
    "Base = declarative_base()\n",
    "\n",
    "# Import modules to declare columns and column data types\n",
    "from sqlalchemy import Column, Integer, String, Float\n",
    "\n",
    "#Import module for session creation\n",
    "from sqlalchemy.orm import Session"
   ]
  },
  {
   "cell_type": "code",
   "execution_count": 3,
   "metadata": {},
   "outputs": [],
   "source": [
    "#Read in csv files from clean_data folder\n",
    "traffic_data = pd.read_csv(\"CMPD_Traffic_Stop_Data_enhanced.csv\")"
   ]
  },
  {
   "cell_type": "code",
   "execution_count": 4,
   "metadata": {},
   "outputs": [
    {
     "data": {
      "text/html": [
       "<div>\n",
       "<style scoped>\n",
       "    .dataframe tbody tr th:only-of-type {\n",
       "        vertical-align: middle;\n",
       "    }\n",
       "\n",
       "    .dataframe tbody tr th {\n",
       "        vertical-align: top;\n",
       "    }\n",
       "\n",
       "    .dataframe thead th {\n",
       "        text-align: right;\n",
       "    }\n",
       "</style>\n",
       "<table border=\"1\" class=\"dataframe\">\n",
       "  <thead>\n",
       "    <tr style=\"text-align: right;\">\n",
       "      <th></th>\n",
       "      <th>Month_of_Stop</th>\n",
       "      <th>Reason_for_Stop</th>\n",
       "      <th>Officer_Race</th>\n",
       "      <th>Officer_Gender</th>\n",
       "      <th>Officer_Years_of_Service</th>\n",
       "      <th>Driver_Race</th>\n",
       "      <th>Driver_Ethnicity</th>\n",
       "      <th>Driver_Gender</th>\n",
       "      <th>Driver_Age</th>\n",
       "      <th>Was_a_Search_Conducted</th>\n",
       "      <th>Result_of_Stop</th>\n",
       "      <th>CMPD_Division</th>\n",
       "      <th>Year</th>\n",
       "      <th>Month_Num</th>\n",
       "      <th>Month</th>\n",
       "    </tr>\n",
       "  </thead>\n",
       "  <tbody>\n",
       "    <tr>\n",
       "      <th>0</th>\n",
       "      <td>2017/10</td>\n",
       "      <td>Speeding</td>\n",
       "      <td>White</td>\n",
       "      <td>Male</td>\n",
       "      <td>3.0</td>\n",
       "      <td>White</td>\n",
       "      <td>Non-Hispanic</td>\n",
       "      <td>Female</td>\n",
       "      <td>22</td>\n",
       "      <td>No</td>\n",
       "      <td>Citation Issued</td>\n",
       "      <td>Providence Division</td>\n",
       "      <td>2017</td>\n",
       "      <td>10</td>\n",
       "      <td>Oct</td>\n",
       "    </tr>\n",
       "    <tr>\n",
       "      <th>1</th>\n",
       "      <td>2017/10</td>\n",
       "      <td>Vehicle Regulatory</td>\n",
       "      <td>White</td>\n",
       "      <td>Male</td>\n",
       "      <td>9.0</td>\n",
       "      <td>Black</td>\n",
       "      <td>Non-Hispanic</td>\n",
       "      <td>Female</td>\n",
       "      <td>21</td>\n",
       "      <td>No</td>\n",
       "      <td>Citation Issued</td>\n",
       "      <td>Hickory Grove Division</td>\n",
       "      <td>2017</td>\n",
       "      <td>10</td>\n",
       "      <td>Oct</td>\n",
       "    </tr>\n",
       "    <tr>\n",
       "      <th>2</th>\n",
       "      <td>2017/10</td>\n",
       "      <td>Vehicle Equipment</td>\n",
       "      <td>White</td>\n",
       "      <td>Male</td>\n",
       "      <td>9.0</td>\n",
       "      <td>Black</td>\n",
       "      <td>Non-Hispanic</td>\n",
       "      <td>Female</td>\n",
       "      <td>30</td>\n",
       "      <td>No</td>\n",
       "      <td>Verbal Warning</td>\n",
       "      <td>South Division</td>\n",
       "      <td>2017</td>\n",
       "      <td>10</td>\n",
       "      <td>Oct</td>\n",
       "    </tr>\n",
       "    <tr>\n",
       "      <th>3</th>\n",
       "      <td>2017/10</td>\n",
       "      <td>Speeding</td>\n",
       "      <td>Asian / Pacific Islander</td>\n",
       "      <td>Male</td>\n",
       "      <td>21.0</td>\n",
       "      <td>White</td>\n",
       "      <td>Non-Hispanic</td>\n",
       "      <td>Male</td>\n",
       "      <td>23</td>\n",
       "      <td>Yes</td>\n",
       "      <td>Arrest</td>\n",
       "      <td>Providence Division</td>\n",
       "      <td>2017</td>\n",
       "      <td>10</td>\n",
       "      <td>Oct</td>\n",
       "    </tr>\n",
       "    <tr>\n",
       "      <th>4</th>\n",
       "      <td>2017/10</td>\n",
       "      <td>Safe Movement</td>\n",
       "      <td>White</td>\n",
       "      <td>Male</td>\n",
       "      <td>19.0</td>\n",
       "      <td>Black</td>\n",
       "      <td>Non-Hispanic</td>\n",
       "      <td>Male</td>\n",
       "      <td>26</td>\n",
       "      <td>No</td>\n",
       "      <td>Verbal Warning</td>\n",
       "      <td>Westover Division</td>\n",
       "      <td>2017</td>\n",
       "      <td>10</td>\n",
       "      <td>Oct</td>\n",
       "    </tr>\n",
       "  </tbody>\n",
       "</table>\n",
       "</div>"
      ],
      "text/plain": [
       "  Month_of_Stop            Reason_for_Stop              Officer_Race  \\\n",
       "0       2017/10  Speeding                                      White   \n",
       "1       2017/10  Vehicle Regulatory                            White   \n",
       "2       2017/10  Vehicle Equipment                             White   \n",
       "3       2017/10  Speeding                   Asian / Pacific Islander   \n",
       "4       2017/10  Safe Movement                                 White   \n",
       "\n",
       "  Officer_Gender  Officer_Years_of_Service Driver_Race Driver_Ethnicity  \\\n",
       "0           Male                       3.0       White     Non-Hispanic   \n",
       "1           Male                       9.0       Black     Non-Hispanic   \n",
       "2           Male                       9.0       Black     Non-Hispanic   \n",
       "3           Male                      21.0       White     Non-Hispanic   \n",
       "4           Male                      19.0       Black     Non-Hispanic   \n",
       "\n",
       "  Driver_Gender  Driver_Age Was_a_Search_Conducted   Result_of_Stop  \\\n",
       "0        Female          22                     No  Citation Issued   \n",
       "1        Female          21                     No  Citation Issued   \n",
       "2        Female          30                     No   Verbal Warning   \n",
       "3          Male          23                    Yes           Arrest   \n",
       "4          Male          26                     No   Verbal Warning   \n",
       "\n",
       "            CMPD_Division  Year  Month_Num Month  \n",
       "0     Providence Division  2017         10   Oct  \n",
       "1  Hickory Grove Division  2017         10   Oct  \n",
       "2          South Division  2017         10   Oct  \n",
       "3     Providence Division  2017         10   Oct  \n",
       "4       Westover Division  2017         10   Oct  "
      ]
     },
     "execution_count": 4,
     "metadata": {},
     "output_type": "execute_result"
    }
   ],
   "source": [
    "#Inspect DataFrame\n",
    "traffic_data.head()"
   ]
  },
  {
   "cell_type": "code",
   "execution_count": 5,
   "metadata": {},
   "outputs": [
    {
     "data": {
      "text/plain": [
       "Month_of_Stop                object\n",
       "Reason_for_Stop              object\n",
       "Officer_Race                 object\n",
       "Officer_Gender               object\n",
       "Officer_Years_of_Service    float64\n",
       "Driver_Race                  object\n",
       "Driver_Ethnicity             object\n",
       "Driver_Gender                object\n",
       "Driver_Age                    int64\n",
       "Was_a_Search_Conducted       object\n",
       "Result_of_Stop               object\n",
       "CMPD_Division                object\n",
       "Year                          int64\n",
       "Month_Num                     int64\n",
       "Month                        object\n",
       "dtype: object"
      ]
     },
     "execution_count": 5,
     "metadata": {},
     "output_type": "execute_result"
    }
   ],
   "source": [
    "traffic_data.dtypes"
   ]
  },
  {
   "cell_type": "code",
   "execution_count": 6,
   "metadata": {},
   "outputs": [],
   "source": [
    "#Create classes\n",
    "class Traffic_Stop(Base):\n",
    "    __tablename__ = \"traffic_stop_data\"\n",
    "    id = Column(Integer, primary_key=True)\n",
    "    Month_of_Stop = Column(String(255))\n",
    "    Reason_for_Stop = Column(String(255))\n",
    "    Officer_Race = Column(String(255))\n",
    "    Officer_Gender = Column(String(255))\n",
    "    Officer_Years_of_Service = Column(Float(50))\n",
    "    Driver_Race = Column(String(255))\n",
    "    Driver_Ethnicity = Column(String(255))\n",
    "    Driver_Gender = Column(String(255))\n",
    "    Driver_Age = Column(Integer)\n",
    "    Was_a_Search_Conducted = Column(String(255))\n",
    "    Result_of_Stop = Column(String(255))\n",
    "    CMPD_Division = Column(String(255))\n",
    "    Year = Column(Integer)\n",
    "    Month_Num = Column(Integer)\n",
    "    Month = Column(String(255))"
   ]
  },
  {
   "cell_type": "code",
   "execution_count": 7,
   "metadata": {},
   "outputs": [],
   "source": [
    "#Create Database Connection\n",
    "engine = create_engine(\"sqlite:///CMPD_traffic_stops_enhanced.sqlite\")\n",
    "conn = engine.connect()"
   ]
  },
  {
   "cell_type": "code",
   "execution_count": 8,
   "metadata": {},
   "outputs": [
    {
     "data": {
      "text/plain": [
       "['traffic_stop_data']"
      ]
     },
     "execution_count": 8,
     "metadata": {},
     "output_type": "execute_result"
    }
   ],
   "source": [
    "#Create tables\n",
    "Base.metadata.create_all(engine)\n",
    "\n",
    "#Display table name\n",
    "engine.table_names()"
   ]
  },
  {
   "cell_type": "code",
   "execution_count": 9,
   "metadata": {},
   "outputs": [],
   "source": [
    "#Create session\n",
    "session = Session(bind=engine)"
   ]
  },
  {
   "cell_type": "code",
   "execution_count": 10,
   "metadata": {},
   "outputs": [],
   "source": [
    "#Add traffic_data DataFrame\n",
    "traffic_data.to_sql(name= \"traffic_stop_data\", con= conn, if_exists=\"append\", index=False)"
   ]
  },
  {
   "cell_type": "code",
   "execution_count": null,
   "metadata": {},
   "outputs": [],
   "source": []
  }
 ],
 "metadata": {
  "kernelspec": {
   "display_name": "Python 3",
   "language": "python",
   "name": "python3"
  },
  "language_info": {
   "codemirror_mode": {
    "name": "ipython",
    "version": 3
   },
   "file_extension": ".py",
   "mimetype": "text/x-python",
   "name": "python",
   "nbconvert_exporter": "python",
   "pygments_lexer": "ipython3",
   "version": "3.6.4"
  }
 },
 "nbformat": 4,
 "nbformat_minor": 2
}
