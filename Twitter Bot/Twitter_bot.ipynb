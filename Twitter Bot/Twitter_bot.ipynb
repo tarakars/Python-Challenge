{
 "cells": [
  {
   "cell_type": "code",
   "execution_count": null,
   "metadata": {},
   "outputs": [],
   "source": [
    "import pandas as pd\n",
    "import tweepy\n",
    "import json\n",
    "import requests\n",
    "from datetime import datetime\n",
    "import matplotlib.pyplot as plt\n",
    "from config import consumer_key,consumer_secret,access_token,access_token_secret\n",
    "from vaderSentiment.vaderSentiment import SentimentIntensityAnalyzer\n",
    "analyzer = SentimentIntensityAnalyzer()"
   ]
  },
  {
   "cell_type": "code",
   "execution_count": null,
   "metadata": {},
   "outputs": [],
   "source": [
    "auth = tweepy.OAuthHandler(consumer_key, consumer_secret)\n",
    "auth.set_access_token(access_token, access_token_secret)\n",
    "api = tweepy.API(auth, parser=tweepy.parsers.JSONParser())"
   ]
  },
  {
   "cell_type": "code",
   "execution_count": null,
   "metadata": {},
   "outputs": [],
   "source": [
    "target_user = \"@plotbotBot\"\n",
    "sentiments = []\n",
    "counter = 1\n",
    "tweet_id_all = []"
   ]
  },
  {
   "cell_type": "code",
   "execution_count": null,
   "metadata": {},
   "outputs": [],
   "source": [
    "\n",
    "public_tweet = api.search(target_user,count = 1,search_type = \"recent\")\n",
    "\n",
    "\n",
    "for tweet in public_tweet[\"statuses\"]:\n",
    "    tweet_content = tweet[\"text\"]\n",
    "    tweet_split = tweet_content.split(\":\")\n",
    "    #print(tweet_split)\n",
    "    sentiment_analyze = tweet_split[1]\n",
    "    print(sentiment_analyze)\n",
    "\n",
    "    for x in range(10):\n",
    "\n",
    "        analyze_tweet = api.user_timeline(sentiment_analyze, page = x+1)\n",
    "\n",
    "        for user_tweet in analyze_tweet:\n",
    "\n",
    "\n",
    "            compound = analyzer.polarity_scores(user_tweet[\"text\"])[\"compound\"]\n",
    "            pos = analyzer.polarity_scores(user_tweet[\"text\"])[\"pos\"]\n",
    "            neu =  analyzer.polarity_scores(user_tweet[\"text\"])[\"neu\"]\n",
    "            neg = analyzer.polarity_scores(user_tweet[\"text\"])[\"neg\"]\n",
    "\n",
    "            \n",
    "\n",
    "            sentiments.append({\"user\":user_tweet[\"user\"][\"name\"],\"Compound\": compound,\n",
    "                               \"Positive\": pos,\n",
    "                               \"Negative\": neu,\n",
    "                               \"Neutral\": neg, \"Tweets Ago\":counter})\n",
    "            counter = counter + 1\n",
    "\n",
    "\n"
   ]
  },
  {
   "cell_type": "code",
   "execution_count": null,
   "metadata": {},
   "outputs": [],
   "source": [
    "analyzed_df = pd.DataFrame.from_dict(sentiments)\n",
    "analyzed_df.head()"
   ]
  },
  {
   "cell_type": "code",
   "execution_count": null,
   "metadata": {},
   "outputs": [],
   "source": [
    "plt.plot(analyzed_df[\"Tweets Ago\"],analyzed_df[\"Compound\"],color=\"skyblue\", marker=\"o\", linewidth=0.5,\n",
    "     alpha=0.8)\n",
    "plt.xlabel(\"Tweets Ago\")\n",
    "plt.ylabel(\"Tweet Polarity\")\n",
    "plt.title(\" As Per analysis on %s\" % tweet[\"created_at\"])\n",
    "plt.savefig(\"plot.png\")\n",
    "plt.show()"
   ]
  },
  {
   "cell_type": "code",
   "execution_count": null,
   "metadata": {},
   "outputs": [],
   "source": [
    "api.update_with_media(\"plot.png\", \"Thank you @%s! for the request on %s\" % \n",
    "            (tweet[\"user\"][\"screen_name\"],sentiment_analyze),\n",
    "            in_reply_to_status_id=tweet[\"id\"])\n",
    "    tweet_id_all.append(tweet_id)"
   ]
  },
  {
   "cell_type": "code",
   "execution_count": null,
   "metadata": {},
   "outputs": [],
   "source": []
  },
  {
   "cell_type": "code",
   "execution_count": null,
   "metadata": {},
   "outputs": [],
   "source": []
  }
 ],
 "metadata": {
  "kernelspec": {
   "display_name": "Python 3",
   "language": "python",
   "name": "python3"
  },
  "language_info": {
   "codemirror_mode": {
    "name": "ipython",
    "version": 3
   },
   "file_extension": ".py",
   "mimetype": "text/x-python",
   "name": "python",
   "nbconvert_exporter": "python",
   "pygments_lexer": "ipython3",
   "version": "3.6.4"
  }
 },
 "nbformat": 4,
 "nbformat_minor": 2
}
