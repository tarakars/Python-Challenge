{
 "cells": [
  {
   "cell_type": "code",
   "execution_count": 1,
   "metadata": {},
   "outputs": [],
   "source": [
    "import pandas as pd\n",
    "import tweepy\n",
    "import json\n",
    "import requests\n",
    "from datetime import datetime\n",
    "import matplotlib.pyplot as plt\n",
    "from config import consumer_key,consumer_secret,access_token,access_token_secret\n",
    "from vaderSentiment.vaderSentiment import SentimentIntensityAnalyzer\n",
    "analyzer = SentimentIntensityAnalyzer()"
   ]
  },
  {
   "cell_type": "code",
   "execution_count": 2,
   "metadata": {},
   "outputs": [],
   "source": [
    "auth = tweepy.OAuthHandler(consumer_key, consumer_secret)\n",
    "auth.set_access_token(access_token, access_token_secret)\n",
    "api = tweepy.API(auth, parser=tweepy.parsers.JSONParser())"
   ]
  },
  {
   "cell_type": "code",
   "execution_count": 3,
   "metadata": {},
   "outputs": [],
   "source": [
    "target_user = \"@plotbotBot\"\n",
    "sentiments = []\n",
    "counter = 1\n",
    "tweet_id_all = []"
   ]
  },
  {
   "cell_type": "code",
   "execution_count": 4,
   "metadata": {},
   "outputs": [
    {
     "name": "stdout",
     "output_type": "stream",
     "text": [
      "@Trevornoah\n"
     ]
    }
   ],
   "source": [
    "\n",
    "\n",
    "public_tweet = api.search(target_user,count =1,search_type = \"recent\")\n",
    "\n",
    "for tweet in public_tweet[\"statuses\"]:\n",
    "    tweet_content = tweet[\"text\"]\n",
    "    tweet_id = tweet[\"id\"]\n",
    "    tweet_split = tweet_content.split(\":\")\n",
    "    #print(tweet_split)\n",
    "    sentiment_analyze = tweet_split[1]\n",
    "    print(sentiment_analyze)\n",
    "\n",
    "    for x in range(10):\n",
    "\n",
    "        analyze_tweet = api.user_timeline(sentiment_analyze, page = x+1)\n",
    "\n",
    "        for user_tweet in analyze_tweet:\n",
    "\n",
    "\n",
    "            compound = analyzer.polarity_scores(user_tweet[\"text\"])[\"compound\"]\n",
    "            pos = analyzer.polarity_scores(user_tweet[\"text\"])[\"pos\"]\n",
    "            neu =  analyzer.polarity_scores(user_tweet[\"text\"])[\"neu\"]\n",
    "            neg = analyzer.polarity_scores(user_tweet[\"text\"])[\"neg\"]\n",
    "\n",
    "            \n",
    "\n",
    "            sentiments.append({\"user\":user_tweet[\"user\"][\"name\"],\"Compound\": compound,\n",
    "                               \"Positive\": pos,\n",
    "                               \"Negative\": neu,\n",
    "                               \"Neutral\": neg, \"Tweets Ago\":counter})\n",
    "            counter = counter + 1\n",
    "\n",
    "\n"
   ]
  },
  {
   "cell_type": "code",
   "execution_count": 5,
   "metadata": {},
   "outputs": [
    {
     "data": {
      "text/html": [
       "<div>\n",
       "<style scoped>\n",
       "    .dataframe tbody tr th:only-of-type {\n",
       "        vertical-align: middle;\n",
       "    }\n",
       "\n",
       "    .dataframe tbody tr th {\n",
       "        vertical-align: top;\n",
       "    }\n",
       "\n",
       "    .dataframe thead th {\n",
       "        text-align: right;\n",
       "    }\n",
       "</style>\n",
       "<table border=\"1\" class=\"dataframe\">\n",
       "  <thead>\n",
       "    <tr style=\"text-align: right;\">\n",
       "      <th></th>\n",
       "      <th>Compound</th>\n",
       "      <th>Negative</th>\n",
       "      <th>Neutral</th>\n",
       "      <th>Positive</th>\n",
       "      <th>Tweets Ago</th>\n",
       "      <th>user</th>\n",
       "    </tr>\n",
       "  </thead>\n",
       "  <tbody>\n",
       "    <tr>\n",
       "      <th>0</th>\n",
       "      <td>0.0000</td>\n",
       "      <td>1.000</td>\n",
       "      <td>0.000</td>\n",
       "      <td>0.000</td>\n",
       "      <td>1</td>\n",
       "      <td>Trevor Noah</td>\n",
       "    </tr>\n",
       "    <tr>\n",
       "      <th>1</th>\n",
       "      <td>0.4939</td>\n",
       "      <td>0.842</td>\n",
       "      <td>0.000</td>\n",
       "      <td>0.158</td>\n",
       "      <td>2</td>\n",
       "      <td>Trevor Noah</td>\n",
       "    </tr>\n",
       "    <tr>\n",
       "      <th>2</th>\n",
       "      <td>-0.5106</td>\n",
       "      <td>0.738</td>\n",
       "      <td>0.173</td>\n",
       "      <td>0.089</td>\n",
       "      <td>3</td>\n",
       "      <td>Trevor Noah</td>\n",
       "    </tr>\n",
       "    <tr>\n",
       "      <th>3</th>\n",
       "      <td>0.3595</td>\n",
       "      <td>0.762</td>\n",
       "      <td>0.000</td>\n",
       "      <td>0.238</td>\n",
       "      <td>4</td>\n",
       "      <td>Trevor Noah</td>\n",
       "    </tr>\n",
       "    <tr>\n",
       "      <th>4</th>\n",
       "      <td>0.1027</td>\n",
       "      <td>0.833</td>\n",
       "      <td>0.076</td>\n",
       "      <td>0.090</td>\n",
       "      <td>5</td>\n",
       "      <td>Trevor Noah</td>\n",
       "    </tr>\n",
       "  </tbody>\n",
       "</table>\n",
       "</div>"
      ],
      "text/plain": [
       "   Compound  Negative  Neutral  Positive  Tweets Ago         user\n",
       "0    0.0000     1.000    0.000     0.000           1  Trevor Noah\n",
       "1    0.4939     0.842    0.000     0.158           2  Trevor Noah\n",
       "2   -0.5106     0.738    0.173     0.089           3  Trevor Noah\n",
       "3    0.3595     0.762    0.000     0.238           4  Trevor Noah\n",
       "4    0.1027     0.833    0.076     0.090           5  Trevor Noah"
      ]
     },
     "execution_count": 5,
     "metadata": {},
     "output_type": "execute_result"
    }
   ],
   "source": [
    "analyzed_df = pd.DataFrame.from_dict(sentiments)\n",
    "analyzed_df.head()"
   ]
  },
  {
   "cell_type": "code",
   "execution_count": 6,
   "metadata": {},
   "outputs": [
    {
     "data": {
      "image/png": "[encoded data removed]",
      "text/plain": [
       "<matplotlib.figure.Figure at 0x109425cc0>"
      ]
     },
     "metadata": {},
     "output_type": "display_data"
    }
   ],
   "source": [
    "plt.plot(analyzed_df[\"Tweets Ago\"],analyzed_df[\"Compound\"],color=\"skyblue\", marker=\"o\", linewidth=0.5,\n",
    "     alpha=0.8)\n",
    "plt.xlabel(\"Tweets Ago\")\n",
    "plt.ylabel(\"Tweet Polarity\")\n",
    "plt.title(\" As Per analysis on %s\" % tweet[\"created_at\"])\n",
    "plt.savefig(\"plot.png\")\n",
    "plt.show()"
   ]
  },
  {
   "cell_type": "code",
   "execution_count": 7,
   "metadata": {},
   "outputs": [
    {
     "data": {
      "text/plain": [
       "{'contributors': None,\n",
       " 'coordinates': None,\n",
       " 'created_at': 'Sat Mar 31 14:03:40 +0000 2018',\n",
       " 'entities': {'hashtags': [],\n",
       "  'media': [{'display_url': 'pic.twitter.com/9djrFnjxYI',\n",
       "    'expanded_url': 'https://twitter.com/PlotbotBot/status/980083207935877122/photo/1',\n",
       "    'id': 980083205607968768,\n",
       "    'id_str': '980083205607968768',\n",
       "    'indices': [54, 77],\n",
       "    'media_url': 'http://pbs.twimg.com/media/DZn0e5iW0AA2j6q.jpg',\n",
       "    'media_url_https': 'https://pbs.twimg.com/media/DZn0e5iW0AA2j6q.jpg',\n",
       "    'sizes': {'large': {'h': 288, 'resize': 'fit', 'w': 432},\n",
       "     'medium': {'h': 288, 'resize': 'fit', 'w': 432},\n",
       "     'small': {'h': 288, 'resize': 'fit', 'w': 432},\n",
       "     'thumb': {'h': 150, 'resize': 'crop', 'w': 150}},\n",
       "    'type': 'photo',\n",
       "    'url': 'https://t.co/9djrFnjxYI'}],\n",
       "  'symbols': [],\n",
       "  'urls': [],\n",
       "  'user_mentions': [{'id': 977544509595750401,\n",
       "    'id_str': '977544509595750401',\n",
       "    'indices': [10, 21],\n",
       "    'name': 'Taraka Rajeev Sharma Narayanabatla',\n",
       "    'screen_name': 'tarakars_n'},\n",
       "   {'id': 46335511,\n",
       "    'id_str': '46335511',\n",
       "    'indices': [42, 53],\n",
       "    'name': 'Trevor Noah',\n",
       "    'screen_name': 'Trevornoah'}]},\n",
       " 'extended_entities': {'media': [{'display_url': 'pic.twitter.com/9djrFnjxYI',\n",
       "    'expanded_url': 'https://twitter.com/PlotbotBot/status/980083207935877122/photo/1',\n",
       "    'id': 980083205607968768,\n",
       "    'id_str': '980083205607968768',\n",
       "    'indices': [54, 77],\n",
       "    'media_url': 'http://pbs.twimg.com/media/DZn0e5iW0AA2j6q.jpg',\n",
       "    'media_url_https': 'https://pbs.twimg.com/media/DZn0e5iW0AA2j6q.jpg',\n",
       "    'sizes': {'large': {'h': 288, 'resize': 'fit', 'w': 432},\n",
       "     'medium': {'h': 288, 'resize': 'fit', 'w': 432},\n",
       "     'small': {'h': 288, 'resize': 'fit', 'w': 432},\n",
       "     'thumb': {'h': 150, 'resize': 'crop', 'w': 150}},\n",
       "    'type': 'photo',\n",
       "    'url': 'https://t.co/9djrFnjxYI'}]},\n",
       " 'favorite_count': 0,\n",
       " 'favorited': False,\n",
       " 'geo': None,\n",
       " 'id': 980083207935877122,\n",
       " 'id_str': '980083207935877122',\n",
       " 'in_reply_to_screen_name': 'tarakars_n',\n",
       " 'in_reply_to_status_id': 980083074087182336,\n",
       " 'in_reply_to_status_id_str': '980083074087182336',\n",
       " 'in_reply_to_user_id': 977544509595750401,\n",
       " 'in_reply_to_user_id_str': '977544509595750401',\n",
       " 'is_quote_status': False,\n",
       " 'lang': 'en',\n",
       " 'place': None,\n",
       " 'possibly_sensitive': False,\n",
       " 'retweet_count': 0,\n",
       " 'retweeted': False,\n",
       " 'source': '<a href=\"https://bootcampspot-v2.com\" rel=\"nofollow\">UNCC Bot</a>',\n",
       " 'text': 'Thank you @tarakars_n! for the request on @Trevornoah https://t.co/9djrFnjxYI',\n",
       " 'truncated': False,\n",
       " 'user': {'contributors_enabled': False,\n",
       "  'created_at': 'Fri Mar 30 18:15:35 +0000 2018',\n",
       "  'default_profile': True,\n",
       "  'default_profile_image': True,\n",
       "  'description': '',\n",
       "  'entities': {'description': {'urls': []}},\n",
       "  'favourites_count': 0,\n",
       "  'follow_request_sent': False,\n",
       "  'followers_count': 0,\n",
       "  'following': False,\n",
       "  'friends_count': 33,\n",
       "  'geo_enabled': False,\n",
       "  'has_extended_profile': False,\n",
       "  'id': 979784216094412800,\n",
       "  'id_str': '979784216094412800',\n",
       "  'is_translation_enabled': False,\n",
       "  'is_translator': False,\n",
       "  'lang': 'en',\n",
       "  'listed_count': 0,\n",
       "  'location': '',\n",
       "  'name': 'PlotBot',\n",
       "  'notifications': False,\n",
       "  'profile_background_color': 'F5F8FA',\n",
       "  'profile_background_image_url': None,\n",
       "  'profile_background_image_url_https': None,\n",
       "  'profile_background_tile': False,\n",
       "  'profile_image_url': 'http://abs.twimg.com/sticky/default_profile_images/default_profile_normal.png',\n",
       "  'profile_image_url_https': 'https://abs.twimg.com/sticky/default_profile_images/default_profile_normal.png',\n",
       "  'profile_link_color': '1DA1F2',\n",
       "  'profile_sidebar_border_color': 'C0DEED',\n",
       "  'profile_sidebar_fill_color': 'DDEEF6',\n",
       "  'profile_text_color': '333333',\n",
       "  'profile_use_background_image': True,\n",
       "  'protected': False,\n",
       "  'screen_name': 'PlotbotBot',\n",
       "  'statuses_count': 2,\n",
       "  'time_zone': None,\n",
       "  'translator_type': 'none',\n",
       "  'url': None,\n",
       "  'utc_offset': None,\n",
       "  'verified': False}}"
      ]
     },
     "execution_count": 7,
     "metadata": {},
     "output_type": "execute_result"
    }
   ],
   "source": [
    "if tweet_id is in tweet_id_all:\n",
    "    print(\"We already replied to this email\")\n",
    "else:\n",
    "    api.update_with_media(\"plot.png\", \"Thank you @%s! for the request on %s\" % \n",
    "            (tweet[\"user\"][\"screen_name\"],sentiment_analyze),\n",
    "            in_reply_to_status_id=tweet[\"id\"])\n",
    "    tweet_id_all.append(tweet_id)"
   ]
  },
  {
   "cell_type": "code",
   "execution_count": null,
   "metadata": {},
   "outputs": [],
   "source": []
  }
 ],
 "metadata": {
  "kernelspec": {
   "display_name": "Python 3",
   "language": "python",
   "name": "python3"
  },
  "language_info": {
   "codemirror_mode": {
    "name": "ipython",
    "version": 3
   },
   "file_extension": ".py",
   "mimetype": "text/x-python",
   "name": "python",
   "nbconvert_exporter": "python",
   "pygments_lexer": "ipython3",
   "version": "3.6.4"
  }
 },
 "nbformat": 4,
 "nbformat_minor": 2
}
